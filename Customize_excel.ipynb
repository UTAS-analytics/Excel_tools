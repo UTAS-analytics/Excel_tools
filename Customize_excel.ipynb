{
 "cells": [
  {
   "cell_type": "code",
   "execution_count": 2,
   "metadata": {},
   "outputs": [],
   "source": [
    "# Import library\n",
    "import xlsxwriter as xlsxwriter \n",
    "import pandas as pd "
   ]
  },
  {
   "cell_type": "code",
   "execution_count": 32,
   "metadata": {},
   "outputs": [
    {
     "data": {
      "text/html": [
       "<div>\n",
       "<style scoped>\n",
       "    .dataframe tbody tr th:only-of-type {\n",
       "        vertical-align: middle;\n",
       "    }\n",
       "\n",
       "    .dataframe tbody tr th {\n",
       "        vertical-align: top;\n",
       "    }\n",
       "\n",
       "    .dataframe thead th {\n",
       "        text-align: right;\n",
       "    }\n",
       "</style>\n",
       "<table border=\"1\" class=\"dataframe\">\n",
       "  <thead>\n",
       "    <tr style=\"text-align: right;\">\n",
       "      <th></th>\n",
       "      <th>Name</th>\n",
       "      <th>Age</th>\n",
       "    </tr>\n",
       "  </thead>\n",
       "  <tbody>\n",
       "    <tr>\n",
       "      <th>0</th>\n",
       "      <td>tom</td>\n",
       "      <td>10</td>\n",
       "    </tr>\n",
       "    <tr>\n",
       "      <th>1</th>\n",
       "      <td>nick</td>\n",
       "      <td>15</td>\n",
       "    </tr>\n",
       "    <tr>\n",
       "      <th>2</th>\n",
       "      <td>juli</td>\n",
       "      <td>14</td>\n",
       "    </tr>\n",
       "  </tbody>\n",
       "</table>\n",
       "</div>"
      ],
      "text/plain": [
       "   Name  Age\n",
       "0   tom   10\n",
       "1  nick   15\n",
       "2  juli   14"
      ]
     },
     "execution_count": 32,
     "metadata": {},
     "output_type": "execute_result"
    }
   ],
   "source": [
    "# initialize list of lists \n",
    "data = [['tom', 10], ['nick', 15], ['juli', 14]] \n",
    "  \n",
    "# Create the pandas DataFrame \n",
    "df = pd.DataFrame(data, columns = ['Name', 'Age']) \n",
    "  \n",
    "# print dataframe. \n",
    "df "
   ]
  },
  {
   "cell_type": "code",
   "execution_count": 46,
   "metadata": {},
   "outputs": [],
   "source": [
    "##############################\n",
    "# Create freezed excel\n",
    "#############################\n",
    "\n",
    "# Create a Pandas dataframe from some data.\n",
    "df = pd.DataFrame({'Data': [10, 20, 30, 20, 15, 30, 45,60,90,100,200]})\n",
    "\n",
    "# Create a Pandas Excel writer using XlsxWriter as the engine.\n",
    "writer = pd.ExcelWriter('data/filename.xlsx', engine='xlsxwriter')\n",
    "\n",
    "# Convert the dataframe to an XlsxWriter Excel object.\n",
    "df.to_excel(writer, sheet_name='Sheet1')\n",
    "\n",
    "# Pick up the worksheet and use xlsxwriter to customize worksheet\n",
    "workbook = writer.book\n",
    "worksheet = writer.sheets[\"Sheet1\"]\n",
    "worksheet.freeze_panes(1,0)\n",
    "\n",
    "# Output excel\n",
    "writer.save()"
   ]
  },
  {
   "cell_type": "code",
   "execution_count": 8,
   "metadata": {},
   "outputs": [],
   "source": [
    "###############################\n",
    "# Create dropdown list in excel\n",
    "###############################\n",
    "# Create a Pandas dataframe from some data.\n",
    "df = pd.DataFrame({'Data': [10, 20, 30, 20, 15, 30, 45,60,90,100,200]})\n",
    "\n",
    "# Create a Pandas Excel writer using XlsxWriter as the engine.\n",
    "writer = pd.ExcelWriter('data/filename_dropdown.xlsx', engine='xlsxwriter')\n",
    "\n",
    "# Convert the dataframe to an XlsxWriter Excel object.\n",
    "df.to_excel(writer, sheet_name='Sheet1')\n",
    "\n",
    "txt = 'Select a value from a drop down list (using a cell range)'\n",
    "\n",
    "worksheet.write('A15', txt)\n",
    "worksheet.data_validation('B15', {'validate': 'list',\n",
    "                                  'source': '=$E$4:$G$4'})\n",
    "\n"
   ]
  },
  {
   "cell_type": "code",
   "execution_count": 14,
   "metadata": {},
   "outputs": [],
   "source": [
    "#########################\n",
    "# Create dropdown list\n",
    "#########################\n",
    "\n",
    "###############################################################################\n",
    "#\n",
    "# Example of how to add data validation and dropdown lists to an\n",
    "# XlsxWriter file.\n",
    "#\n",
    "# Data validation is a feature of Excel which allows you to restrict\n",
    "# the data that a user enters in a cell and to display help and\n",
    "# warning messages. It also allows you to restrict input to values in\n",
    "# a drop down list.\n",
    "#\n",
    "# Copyright 2013-2020, John McNamara, jmcnamara@cpan.org\n",
    "#\n",
    "from datetime import date, time\n",
    "import xlsxwriter\n",
    "\n",
    "workbook = xlsxwriter.Workbook('data_validate.xlsx')\n",
    "worksheet = workbook.add_worksheet()\n",
    "\n",
    "# Add a format for the header cells.\n",
    "header_format = workbook.add_format({\n",
    "    'border': 1,\n",
    "    'bg_color': '#C6EFCE',\n",
    "    'bold': True,\n",
    "    'text_wrap': True,\n",
    "    'valign': 'vcenter',\n",
    "    'indent': 1,\n",
    "})\n",
    "\n",
    "# Set up layout of the worksheet.\n",
    "worksheet.set_column('A:A', 68)\n",
    "worksheet.set_column('B:B', 15)\n",
    "worksheet.set_column('D:D', 15)\n",
    "worksheet.set_row(0, 36)\n",
    "\n",
    "# Write the header cells and some data that will be used in the examples.\n",
    "heading1 = 'Some examples of data validation in XlsxWriter'\n",
    "heading2 = 'Enter values in this column'\n",
    "heading3 = 'Sample Data'\n",
    "\n",
    "worksheet.write('A1', heading1, header_format)\n",
    "worksheet.write('B1', heading2, header_format)\n",
    "worksheet.write('D1', heading3, header_format)\n",
    "\n",
    "worksheet.write_row('D3', ['Integers', 1, 10])\n",
    "worksheet.write_row('D4', ['List data', 'open', 'high', 'close'])\n",
    "worksheet.write_row('D5', ['Formula', '=AND(F5=50,G5=60)', 50, 60])\n",
    "\n",
    "\n",
    "\n",
    "# Example 7. Limiting input to a value in a dropdown list.\n",
    "#\n",
    "txt = 'Select a value from a drop down list (using a cell range)'\n",
    "\n",
    "worksheet.write('A15', txt)\n",
    "worksheet.data_validation('B2:B15', {'validate': 'list',\n",
    "                                  'source': '\"Successful and key points covered, Semi-Successful - talked but too briefly. Email sent\"'})\n"
   ]
  },
  {
   "cell_type": "code",
   "execution_count": 1,
   "metadata": {},
   "outputs": [],
   "source": [
    "import os\n",
    "cwd = os.getcwd()"
   ]
  },
  {
   "cell_type": "code",
   "execution_count": null,
   "metadata": {},
   "outputs": [],
   "source": []
  }
 ],
 "metadata": {
  "kernelspec": {
   "display_name": "Python 3",
   "language": "python",
   "name": "python3"
  },
  "language_info": {
   "codemirror_mode": {
    "name": "ipython",
    "version": 3
   },
   "file_extension": ".py",
   "mimetype": "text/x-python",
   "name": "python",
   "nbconvert_exporter": "python",
   "pygments_lexer": "ipython3",
   "version": "3.6.5"
  }
 },
 "nbformat": 4,
 "nbformat_minor": 2
}
